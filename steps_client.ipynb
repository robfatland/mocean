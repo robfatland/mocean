{
 "cells": [
  {
   "cell_type": "code",
   "execution_count": 12,
   "metadata": {},
   "outputs": [],
   "source": [
    "import decimal\n",
    "\n",
    "# pandas library is used for talking with the API\n",
    "import pandas as pd\n",
    "\n",
    "url     = 'https://54.69.30.193:8080/hello'\n",
    "\n",
    "\n",
    "# url='http://54.69.30.193:8080/hello?550'\n",
    "# a=requests.get(url)\n",
    "# print(a.content.decode('utf-8'))\n",
    "\n",
    "# a=pd.read_json(url)\n",
    "# a                       # dataframe"
   ]
  },
  {
   "cell_type": "code",
   "execution_count": 27,
   "metadata": {},
   "outputs": [
    {
     "name": "stdout",
     "output_type": "stream",
     "text": [
      "42\n",
      "4.498481750488281\n"
     ]
    }
   ],
   "source": [
    "import requests\n",
    "import time\n",
    "\n",
    "def apicall(x): return requests.get('http://54.69.30.193:8080/exchange?task=' + str(x)).text\n",
    "\n",
    "tic = time.time(); check_42 = apicall(5); toc = time.time()\n",
    "\n",
    "print(check_42)\n",
    "print(1000.*(toc-tic))"
   ]
  },
  {
   "cell_type": "code",
   "execution_count": 25,
   "metadata": {},
   "outputs": [
    {
     "name": "stdout",
     "output_type": "stream",
     "text": [
      "True\n"
     ]
    }
   ],
   "source": [
    "def isprime(n):\n",
    "    if n == 2: return True\n",
    "    if n < 2 or not n % 2: return False\n",
    "    for i in range(3, int(sqrt(n))+1, 2):\n",
    "        if not n % i: return False\n",
    "    return True\n",
    "\n",
    "from math import sqrt\n",
    "n = 39458383751\n",
    "print(isprime(n))"
   ]
  },
  {
   "cell_type": "markdown",
   "metadata": {},
   "source": [
    "# The Steps Game\n",
    "\n",
    "You play this game by running the little program given below. \n",
    "The purpose of the program is to talk to a Server. \n",
    "In order for it to work you must have the `requests` library installed on your computer. \n",
    "\n",
    "\n",
    "Each time you send a message to the Server you are trying to guess what it wants to hear.\n",
    "When you guess correctly (hopefully the Server will give you hints) you move on to the next puzzle.\n",
    "\n",
    "\n",
    "## Putting your message together\n",
    "\n",
    "A guess message is a Python *string* with six pieces glued together. \n",
    "The work is done by the program; so you only have to worry about what to say for your actual *guess*.\n",
    "Here is what those six pieces are, if you are interested:\n",
    "\n",
    "\n",
    "- the string `http://` means the message is going out onto the internet\n",
    "- the ip address `54.69.30.193` is the Server's internet address\n",
    "- the addition of `:8080` is a port number. The Server listens on that port.\n",
    "- the addition of `/begin` is the first puzzle game **route**. Each puzzle has an associated route.\n",
    "- the addition of `?message=` is a key. This tells the Server to get ready for your guess.\n",
    "- the addition of your guess (as a string) is the value that goes with the key\n",
    "\n",
    "This is a lot of detail. The point is that this structure gives us a lot of flexibility in how we \n",
    "communicate between two computers. You can also imagine it is a bit like casting a magic spell: \n",
    "It is all necessary for the spell to work... even if the precise details are unclear.\n",
    "\n",
    "\n",
    "## Running the program\n",
    "\n",
    "When you run this code the `input()` statement will prompt you for a message to send the Server\n",
    "on the `begin` route. Once you solve this first puzzle you will be given the next route. To \n",
    "change your route just type in `route` and then enter the new route name. From there you can \n",
    "start working on the second puzzle. \n",
    "\n",
    "\n",
    "To stop playing just type in `exit` or `quit`. \n",
    "\n",
    "## Installing `requests`\n",
    "\n",
    "If you do not have the `requests` module installed you will get an error:\n",
    "\n",
    "\n",
    "`no module named 'requests'`\n",
    "\n",
    "\n",
    "To install it on a PC:\n",
    "\n",
    "- Open the `command` window \n",
    "- Type in the command `python -m pip install requests`\n",
    "- Try the program again to see if `requests` is now ok\n"
   ]
  },
  {
   "cell_type": "code",
   "execution_count": 80,
   "metadata": {},
   "outputs": [
    {
     "name": "stdin",
     "output_type": "stream",
     "text": [
      "msg to send to route 'begin': hello\n"
     ]
    },
    {
     "name": "stdout",
     "output_type": "stream",
     "text": [
      "\n",
      "Server response: \n",
      "\n",
      "you are on the right route: \"begin\", yay! but your message is not numerical enough for me!!!\n",
      "\n",
      "4.5 milliseconds, URL = http://54.69.30.193:8080/begin?message=hello\n",
      "\n",
      "\n"
     ]
    },
    {
     "name": "stdin",
     "output_type": "stream",
     "text": [
      "msg to send to route 'begin': quit\n"
     ]
    }
   ],
   "source": [
    "import requests, time\n",
    "urlbase, route = 'http://54.69.30.193:8080/', 'begin'\n",
    "while True:\n",
    "    msg = input(\"msg to send to route '\" + route + \"':\")\n",
    "    if msg == 'exit' or msg == 'quit':  break\n",
    "    if msg == 'route': route = input(\"enter a new route:\")\n",
    "    else: \n",
    "        tic = time.time()\n",
    "        answer_back = requests.get(urlbase + route + '?' + 'message=' + msg).text\n",
    "        toc = time.time()\n",
    "        print('\\nServer response: \\n\\n' + answer_back + '\\n\\n' + str(round((toc - tic)*1000., 1)) \\\n",
    "              + ' milliseconds, URL = ' + urlbase + route + '?' + 'message=' + msg + '\\n\\n') "
   ]
  },
  {
   "cell_type": "code",
   "execution_count": 75,
   "metadata": {},
   "outputs": [
    {
     "name": "stdout",
     "output_type": "stream",
     "text": [
      "\n",
      "Server response: \n",
      "\n",
      "you are on the right route: \"begin\", yay! but your message is not numerical enough for me!!!\n",
      "\n",
      "4.8 milliseconds, URL = http://54.69.30.193:8080/begin?message=hello\n",
      "\n",
      "\n"
     ]
    }
   ],
   "source": [
    "import requests, time\n",
    "urlbase, route = 'http://54.69.30.193:8080/', 'begin'\n",
    "\n",
    "msg = 'hello' \n",
    "tic = time.time()\n",
    "answer_back = requests.get(urlbase + route + '?' + 'message=' + msg).text\n",
    "toc = time.time()\n",
    "print('\\nServer response: \\n\\n' + answer_back + '\\n\\n' + str(round((toc - tic)*1000., 1)) + ' milliseconds, URL = ' + urlbase + route + '?' + 'message=' + msg + '\\n\\n') "
   ]
  },
  {
   "cell_type": "code",
   "execution_count": null,
   "metadata": {},
   "outputs": [
    {
     "name": "stdin",
     "output_type": "stream",
     "text": [
      "msg to send to route 'join': rob\n"
     ]
    },
    {
     "name": "stdout",
     "output_type": "stream",
     "text": [
      "\n",
      "Server response: \n",
      "\n",
      "rob,1,56.850029804267436,119.47249037112095,0.0\n",
      "\n",
      "4.7 milliseconds, URL = http://54.69.30.193:8080/join?message=rob\n",
      "\n",
      "\n"
     ]
    },
    {
     "name": "stdin",
     "output_type": "stream",
     "text": [
      "msg to send to route 'join': fred\n"
     ]
    },
    {
     "name": "stdout",
     "output_type": "stream",
     "text": [
      "\n",
      "Server response: \n",
      "\n",
      "fred,2,155.75926575277742,4.166128915997458,0.0\n",
      "\n",
      "4.2 milliseconds, URL = http://54.69.30.193:8080/join?message=fred\n",
      "\n",
      "\n"
     ]
    },
    {
     "name": "stdin",
     "output_type": "stream",
     "text": [
      "msg to send to route 'join': route\n",
      "enter a new route: quit\n",
      "msg to send to route 'quit': fred\n"
     ]
    },
    {
     "name": "stdout",
     "output_type": "stream",
     "text": [
      "\n",
      "Server response: \n",
      "\n",
      "you have left the toroidal mocean\n",
      "\n",
      "4.6 milliseconds, URL = http://54.69.30.193:8080/quit?message=fred\n",
      "\n",
      "\n"
     ]
    },
    {
     "name": "stdin",
     "output_type": "stream",
     "text": [
      "msg to send to route 'quit': route\n",
      "enter a new route: move\n",
      "msg to send to route 'move': rob&direction=up\n"
     ]
    },
    {
     "name": "stdout",
     "output_type": "stream",
     "text": [
      "\n",
      "Server response: \n",
      "\n",
      "you tried to move\n",
      "\n",
      "4.6 milliseconds, URL = http://54.69.30.193:8080/move?message=rob&direction=up\n",
      "\n",
      "\n"
     ]
    }
   ],
   "source": [
    "import requests, time\n",
    "urlbase, route = 'http://54.69.30.193:8080/', 'join'\n",
    "while True:\n",
    "    msg = input(\"msg to send to route '\" + route + \"':\")\n",
    "    if msg == 'exit' or msg == 'quit':  break\n",
    "    if msg == 'route': route = input(\"enter a new route:\")\n",
    "    else:\n",
    "        tic = time.time()\n",
    "        answer_back = requests.get(urlbase + route + '?' + 'name=' + msg).text           # key is hardcoded\n",
    "        toc = time.time()\n",
    "        print('\\nServer response: \\n\\n' + answer_back + '\\n\\n' + str(round((toc - tic)*1000., 1)) \\\n",
    "              + ' milliseconds, URL = ' + urlbase + route + '?' + 'message=' + msg + '\\n\\n') "
   ]
  },
  {
   "cell_type": "code",
   "execution_count": 38,
   "metadata": {},
   "outputs": [
    {
     "name": "stdout",
     "output_type": "stream",
     "text": [
      "False\n",
      "False\n",
      "False\n",
      "True\n",
      "False\n",
      "True\n",
      "nope: hello\n",
      "-7.8 -7\n"
     ]
    }
   ],
   "source": [
    "r='hello'\n",
    "s='-7'\n",
    "t='-7.8'\n",
    "u='0'\n",
    "v='7.4'\n",
    "w='9'\n",
    "print(r.isnumeric())\n",
    "print(s.isnumeric())\n",
    "print(t.isnumeric())\n",
    "print(u.isnumeric())\n",
    "print(v.isnumeric())\n",
    "print(w.isnumeric())\n",
    "\n",
    "try:\n",
    "    rfloat = float(r)\n",
    "except: \n",
    "    print('nope:', r)\n",
    "    \n",
    "try:\n",
    "    tfloat = float(t)\n",
    "except:\n",
    "    print('nope', t)\n",
    "\n",
    "\n",
    "print(tfloat, int(tfloat))"
   ]
  }
 ],
 "metadata": {
  "kernelspec": {
   "display_name": "Python 3",
   "language": "python",
   "name": "python3"
  },
  "language_info": {
   "codemirror_mode": {
    "name": "ipython",
    "version": 3
   },
   "file_extension": ".py",
   "mimetype": "text/x-python",
   "name": "python",
   "nbconvert_exporter": "python",
   "pygments_lexer": "ipython3",
   "version": "3.8.3"
  }
 },
 "nbformat": 4,
 "nbformat_minor": 4
}
